{
 "cells": [
  {
   "cell_type": "markdown",
   "metadata": {},
   "source": [
    "# Matrizes\n",
    "## Início do estudo de matrizes\n",
    "Aqui, apresentarei um pouco de um estudo realizado sobre matrizes, definindo várias funções que podem ser úteis para o cálculo de matrizes, como a determinante, a inversa, a transposta, etc."
   ]
  },
  {
   "cell_type": "code",
   "execution_count": null,
   "metadata": {
    "is_executing": true
   },
   "outputs": [],
   "source": [
    "#Com esse código uma matriz 2 por 2 apenas com elementos nulos é criada\n",
    "linhas = 2\n",
    "colunas = 2\n",
    "matriz = [[0 for _ in range(colunas)] for _ in range(linhas)]\n",
    "print (matriz)\n",
    "print(3)\n"
   ]
  },
  {
   "cell_type": "markdown",
   "metadata": {},
   "source": [
    "Usuário definindo uma matriz e a ordem dela\n"
   ]
  },
  {
   "cell_type": "code",
   "execution_count": null,
   "metadata": {
    "is_executing": true
   },
   "outputs": [],
   "source": [
    "#Essa função permite o usuário criar uma matriz de qualquer ordem e definir seus elementos    \n",
    "def criar_matriz(ordem):\n",
    "    matriz =[]\n",
    "    for i in range(ordem):\n",
    "        linha=[]\n",
    "        for j in range(ordem):\n",
    "            elemento=(int(input(f\"digite o elemento da linha{i+1}, coluna{j+1}: \")))\n",
    "            linha.append(elemento)    \n",
    "        matriz.append(linha)\n",
    "    return matriz\n",
    "\n",
    "ordem=int(input(\"digite a ordem da sua matriz quadrada: \"))\n",
    "matriz=criar_matriz(ordem)\n",
    "print(\"matriz criada: \")\n",
    "for linha in matriz:\n",
    "    print(linha)\n"
   ]
  },
  {
   "cell_type": "markdown",
   "source": [
    "Agora vamos começar fazendo uma função que define o cofator de um elemento e o determinante de uma matriz"
   ],
   "metadata": {
    "collapsed": false
   }
  },
  {
   "cell_type": "code",
   "execution_count": null,
   "outputs": [],
   "source": [
    "def cofactor(matriz, linha, coluna):\n",
    "    matriz2 = []\n",
    "    for i in range(len(matriz)):\n",
    "        if i != linha:\n",
    "            linha_temp = []\n",
    "            for j in range(len(matriz)):\n",
    "                if j != coluna:\n",
    "                    linha_temp.append(matriz[i][j])\n",
    "            matriz2.append(linha_temp)\n",
    "    cofator = (-1)**(linha+coluna)*det(matriz2)\n",
    "    return cofator\n",
    "\n",
    "\n",
    "def det(matriz):\n",
    "    if len(matriz) == 1:\n",
    "        return matriz[0][0]\n",
    "    else:\n",
    "        determinante = 0\n",
    "        for i in range(len(matriz)):\n",
    "            determinante += matriz[i][0]*cofactor(matriz, i, 0)\n",
    "    return determinante"
   ],
   "metadata": {
    "collapsed": false
   }
  },
  {
   "cell_type": "markdown",
   "source": [],
   "metadata": {
    "collapsed": false
   }
  }
 ],
 "metadata": {
  "kernelspec": {
   "display_name": "Python 3",
   "language": "python",
   "name": "python3"
  },
  "language_info": {
   "codemirror_mode": {
    "name": "ipython",
    "version": 3
   },
   "file_extension": ".py",
   "mimetype": "text/x-python",
   "name": "python",
   "nbconvert_exporter": "python",
   "pygments_lexer": "ipython3",
   "version": "3.11.4"
  }
 },
 "nbformat": 4,
 "nbformat_minor": 2
}
