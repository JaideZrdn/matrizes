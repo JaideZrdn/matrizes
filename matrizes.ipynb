{
 "cells": [
  {
   "cell_type": "markdown",
   "metadata": {},
   "source": [
    "<div style=\"background-color: rgb(80, 90, 115); padding: 10px;\">\n",
    "   <h1><strong style=\"color: rgb(3,21,105);\">Matrizes</strong></h1>\n",
    "   <h2 style=\"color: rgb(3,21,105);\"><strong>Início do estudo</strong></h2>\n",
    "   <ol>\n",
    "      <li style=\"color: rgb(100,124,205);\"><strong>Criando uma matriz</strong></li>\n",
    "   </ol>\n",
    "</div>\n"
   ]
  },
  {
   "cell_type": "code",
   "execution_count": 11,
   "metadata": {},
   "outputs": [
    {
     "name": "stdout",
     "output_type": "stream",
     "text": [
      "[[0, 0], [0, 0]]\n"
     ]
    }
   ],
   "source": [
    "#Com esse código uma matriz 2 por 2 apenas com elementos nulos é criada\n",
    "linhas = 2\n",
    "colunas = 2\n",
    "matriz = [[0 for _ in range(colunas)] for _ in range(linhas)]\n",
    "print (matriz)\n",
    "print(3)\n"
   ]
  },
  {
   "cell_type": "markdown",
   "metadata": {},
   "source": [
    "<div style=\"background-color: rgb(80, 90, 115); padding: 10px;\">\n",
    "   <ol start=\"2\">\n",
    "      <li style=\"color: rgb(100,124,205);\"><strong>Deixando o usuário definir a ordem da matriz</strong></li>\n",
    "   </ol>\n",
    "</div>\n",
    "\n"
   ]
  },
  {
   "cell_type": "code",
   "execution_count": 5,
   "metadata": {},
   "outputs": [
    {
     "name": "stdout",
     "output_type": "stream",
     "text": [
      "matriz criada: \n",
      "['guiva', 'suca', 'miat']\n",
      "['blyat', 'sula', 'uma lista que contem 1 2 e jorge']\n",
      "['eduardo cordeiro da camara de carvalho azrdin7', 'teu nome completo sí que sem ve', 'jahdeb d efaenmasdjfa dea catravnalljosrha zsa']\n"
     ]
    }
   ],
   "source": [
    "#Essa função permite o usuário criar uma matriz de qualquer ordem e definir seus elementos    \n",
    "def criar_matriz(ordem):\n",
    "    matriz =[]\n",
    "    for i in range(ordem):\n",
    "        linha=[]\n",
    "        for j in range(ordem):\n",
    "            elemento=(input(f\"digite o elemento da linha{i+1}, coluna{j+1}: \"))\n",
    "            linha.append(elemento)    \n",
    "        matriz.append(linha)\n",
    "    return matriz\n",
    "\n",
    "ordem=int(input(\"digite a ordem da sua matriz quadrada: \"))\n",
    "matriz=criar_matriz(ordem)\n",
    "print(\"matriz criada: \")\n",
    "for linha in matriz:\n",
    "    print(linha)\n"
   ]
  }
 ],
 "metadata": {
  "kernelspec": {
   "display_name": "Python 3",
   "language": "python",
   "name": "python3"
  },
  "language_info": {
   "codemirror_mode": {
    "name": "ipython",
    "version": 3
   },
   "file_extension": ".py",
   "mimetype": "text/x-python",
   "name": "python",
   "nbconvert_exporter": "python",
   "pygments_lexer": "ipython3",
   "version": "3.11.4"
  }
 },
 "nbformat": 4,
 "nbformat_minor": 2
}
