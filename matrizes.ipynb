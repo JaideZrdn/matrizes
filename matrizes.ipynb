{
 "cells": [
  {
   "cell_type": "markdown",
   "metadata": {},
   "source": [
    "# Matrizes\n",
    "## Início do estudo de matrizes\n",
    "\n",
    "### 1. **Matriz_identidade**"
   ]
  },
  {
   "cell_type": "code",
   "execution_count": null,
   "metadata": {
    "is_executing": true
   },
   "outputs": [],
   "source": [
    "def matriz_identidade(n: int) -> [[float]]:\n",
    "    \"\"\"Cria uma Matriz Identidade de ordem n\"\"\"\n",
    "    matriz = []\n",
    "    for i in range(n):\n",
    "        matriz.append([])\n",
    "        for j in range(n):\n",
    "            if i == j:\n",
    "                matriz[i].append(1)\n",
    "            else:\n",
    "                matriz[i].append(0)\n",
    "    return matriz"
   ]
  },
  {
   "cell_type": "markdown",
   "source": [
    "### 2. **Matriz**"
   ],
   "metadata": {
    "collapsed": false
   }
  },
  {
   "cell_type": "code",
   "execution_count": null,
   "outputs": [],
   "source": [
    "def matrix(n: int, m: int) -> [[float]]:\n",
    "    \"\"\"Cria uma Matriz Nula de colunas iguais a m e linhas iguais a n\"\"\"\n",
    "    matriz = []\n",
    "    for i in range(n):\n",
    "        matriz.append([])\n",
    "        for j in range(m):\n",
    "            matriz[i].append(0)\n",
    "    return matriz"
   ],
   "metadata": {
    "collapsed": false
   }
  },
  {
   "cell_type": "markdown",
   "metadata": {},
   "source": [
    "### 3. **Cofator**"
   ]
  },
  {
   "cell_type": "code",
   "execution_count": null,
   "metadata": {
    "is_executing": true
   },
   "outputs": [],
   "source": [
    "def cofator(matriz: [[float]], linha: int, coluna: int) -> float:\n",
    "    matriz2 = []\n",
    "    for i in range(len(matriz)):\n",
    "        if i != linha:\n",
    "            linha_temp = []\n",
    "            for j in range(len(matriz)):\n",
    "                if j != coluna:\n",
    "                    linha_temp.append(matriz[i][j])\n",
    "            matriz2.append(linha_temp)\n",
    "    cofator = (-1)**(linha+coluna)*determinante(matriz2)\n",
    "    return cofator"
   ]
  },
  {
   "cell_type": "markdown",
   "source": [
    "### 4. **Determinante**"
   ],
   "metadata": {
    "collapsed": false
   }
  },
  {
   "cell_type": "code",
   "execution_count": null,
   "outputs": [],
   "source": [
    "def determinante(matriz: [[float]]) -> float:\n",
    "    if len(matriz) == 1:\n",
    "        return matriz[0][0]\n",
    "    else:\n",
    "        determinante = 0\n",
    "        for i in range(len(matriz)):\n",
    "            determinante += matriz[i][0]*cofator(matriz, i, 0)\n",
    "    return determinante"
   ],
   "metadata": {
    "collapsed": false
   }
  },
  {
   "cell_type": "markdown",
   "source": [
    "### 5. **Multiplicação de matrizes**"
   ],
   "metadata": {
    "collapsed": false
   }
  },
  {
   "cell_type": "code",
   "execution_count": null,
   "outputs": [],
   "source": [
    "def mult_matriz(m1: [[float]], m2: [[float]]) -> [[float]]:\n",
    "    if len(m1[0]) != len(m2): return None  \n",
    "    row = len(m1)\n",
    "    x = len(m1[0]) \n",
    "    col = len(m2[0])\n",
    "    m3 = matrix(row, col)\n",
    "    for i in range(row):\n",
    "        for y in range(x):\n",
    "            for j in range(col):\n",
    "                m3[i][j] += m1[i][y] * m2[y][j]\n",
    "    return m3"
   ],
   "metadata": {
    "collapsed": false
   }
  },
  {
   "cell_type": "markdown",
   "source": [
    "### 6. **Transposta**"
   ],
   "metadata": {
    "collapsed": false
   }
  },
  {
   "cell_type": "code",
   "execution_count": null,
   "outputs": [],
   "source": [
    "def transposta(matriz: [[float]]) -> [[float]]:\n",
    "    mn = matrix(len(matriz[0]), len(matriz))\n",
    "    for i in range(len(matriz[0])):\n",
    "        for j in range(len(matriz)):\n",
    "            mn[i][j] = matriz[j][i]\n",
    "    return mn\n"
   ],
   "metadata": {
    "collapsed": false
   }
  },
  {
   "cell_type": "markdown",
   "source": [
    "### 7. **Multiplicação por Escalar**"
   ],
   "metadata": {
    "collapsed": false
   }
  },
  {
   "cell_type": "code",
   "execution_count": null,
   "outputs": [],
   "source": [
    "def mul_escalar(matriz:[[float]], escalar: float) -> [[float]]:\n",
    "    for i in range(len(matriz)):\n",
    "        for j in range(len(matriz[0])):\n",
    "            matriz[i][j] = matriz[i][j] * escalar\n",
    "            \n",
    "    return matriz"
   ],
   "metadata": {
    "collapsed": false
   }
  },
  {
   "cell_type": "markdown",
   "source": [
    "### 8. **Inversa**"
   ],
   "metadata": {
    "collapsed": false
   }
  },
  {
   "cell_type": "code",
   "execution_count": null,
   "outputs": [],
   "source": [
    "def inversa(matriz: [[float]]) -> [[float]]:\n",
    "    if len(matriz) != len(matriz[0]): return None\n",
    "    det = determinante(matriz)\n",
    "    if det == 0: return None\n",
    "    matriz2 = matrix(len(matriz), len(matriz))\n",
    "    for i in range(len(matriz)):\n",
    "        for j in range(len(matriz)):\n",
    "            matriz2[i][j] = cofator(matriz, i, j)\n",
    "    matriz2 = transposta(matriz2)\n",
    "    matriz2 = mul_escalar(matriz2, 1/det)\n",
    "    return matriz2"
   ],
   "metadata": {
    "collapsed": false
   }
  },
  {
   "cell_type": "markdown",
   "source": [],
   "metadata": {
    "collapsed": false
   }
  }
 ],
 "metadata": {
  "kernelspec": {
   "display_name": "Python 3",
   "language": "python",
   "name": "python3"
  },
  "language_info": {
   "codemirror_mode": {
    "name": "ipython",
    "version": 3
   },
   "file_extension": ".py",
   "mimetype": "text/x-python",
   "name": "python",
   "nbconvert_exporter": "python",
   "pygments_lexer": "ipython3",
   "version": "3.11.4"
  }
 },
 "nbformat": 4,
 "nbformat_minor": 2
}
